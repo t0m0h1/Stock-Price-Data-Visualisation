{
 "cells": [
  {
   "cell_type": "code",
   "execution_count": null,
   "metadata": {},
   "outputs": [],
   "source": [
    "import yfinance as yf\n",
    "import pandas as pd\n",
    "import matplotlib.pyplot as plt\n",
    "import seaborn as sns\n",
    "\n",
    "symbol = 'AAPL' # Apple Inc, for example\n",
    "stock = yf.Ticker(symbol)\n",
    "data = stock.history(period='1y') # stock over the last year\n",
    "\n"
   ]
  }
 ],
 "metadata": {
  "language_info": {
   "name": "python"
  }
 },
 "nbformat": 4,
 "nbformat_minor": 2
}
